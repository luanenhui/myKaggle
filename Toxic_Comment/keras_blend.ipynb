{
 "cells": [
  {
   "cell_type": "code",
   "execution_count": 1,
   "metadata": {},
   "outputs": [
    {
     "data": {
      "text/plain": [
       "['.ipynb_checkpoints',\n",
       " 'beginner.py',\n",
       " 'blend_of_blends_1.py',\n",
       " 'data_description.md',\n",
       " 'keras_beginner.ipynb',\n",
       " 'keras_blend.ipynb',\n",
       " 'LGB_GRU_LR_LSTM_NB-SVM_Average_Ensemble.py',\n",
       " 'LightGBM_with_Select_K_Best_on_TFIDF.py',\n",
       " 'logistic_regression.py',\n",
       " 'myblends.ipynb',\n",
       " 'myblends_random.ipynb',\n",
       " 'myKeras_epoch2_submission.csv',\n",
       " 'myKeras_submission_1.csv',\n",
       " 'myKeras_submission_2.csv',\n",
       " 'myKeras_submission_3.csv',\n",
       " 'myKeras_submission_4.csv',\n",
       " 'mykeras_with_prepro',\n",
       " 'myKeras_with_preprocessing.ipynb',\n",
       " 'myNewbies.ipynb',\n",
       " 'myNewbies_result.csv',\n",
       " 'NB_SVM.ipynb',\n",
       " 'Pooled_GRU_plus_GloVe.py',\n",
       " 'tensorflow_officialTutorial.ipynb',\n",
       " 'tf_officialTutorial_MNISTforMLBeginners.ipynb',\n",
       " 'toxic_one_more_b8bce2.py',\n",
       " 'Untitled.ipynb',\n",
       " 'Untitled1.ipynb']"
      ]
     },
     "execution_count": 1,
     "metadata": {},
     "output_type": "execute_result"
    }
   ],
   "source": [
    "import os\n",
    "import pandas as pd\n",
    "import numpy as np\n",
    "\n",
    "user_folder = os.path.expanduser('~')\n",
    "data_folder = os.path.join(user_folder, 'E:/git/myKaggle/Toxic_Comment')\n",
    "files = os.listdir(data_folder)\n",
    "files"
   ]
  },
  {
   "cell_type": "code",
   "execution_count": 6,
   "metadata": {},
   "outputs": [],
   "source": [
    "K1 = pd.read_csv(os.path.join(data_folder, files[12]))\n",
    "K2 = pd.read_csv(os.path.join(data_folder, files[13]))\n",
    "K3 = pd.read_csv(os.path.join(data_folder, files[14]))\n",
    "K4 = pd.read_csv(os.path.join(data_folder, files[15]))\n",
    "\n",
    "\n",
    "# ave = pd.read_csv(os.path.join(data_folder, files[5])) # 0.9823\n",
    "\n",
    "\n",
    "weights = pd.Series([0.25]*4)"
   ]
  },
  {
   "cell_type": "code",
   "execution_count": 7,
   "metadata": {},
   "outputs": [],
   "source": [
    "# Bojan suggests scaling with min-max to make sure that all the submissions have\n",
    "# orderings that can be compared. Since our metric is AUC, this is okay and may\n",
    "# improve performance.\n",
    "\n",
    "from sklearn.preprocessing import minmax_scale\n",
    "labels = [\"toxic\", \"severe_toxic\", \"obscene\", \"threat\", \"insult\", \"identity_hate\"]"
   ]
  },
  {
   "cell_type": "code",
   "execution_count": 9,
   "metadata": {},
   "outputs": [
    {
     "name": "stdout",
     "output_type": "stream",
     "text": [
      "toxic\n",
      "[[1.         0.97690888 0.97877637 0.97877637]\n",
      " [0.97690888 1.         0.97822737 0.97822737]\n",
      " [0.97877637 0.97822737 1.         1.        ]\n",
      " [0.97877637 0.97822737 1.         1.        ]]\n",
      "severe_toxic\n",
      "[[1.         0.93925194 0.91594614 0.91594614]\n",
      " [0.93925194 1.         0.92071867 0.92071867]\n",
      " [0.91594614 0.92071867 1.         1.        ]\n",
      " [0.91594614 0.92071867 1.         1.        ]]\n",
      "obscene\n",
      "[[1.         0.97782013 0.97691905 0.97691905]\n",
      " [0.97782013 1.         0.97532997 0.97532997]\n",
      " [0.97691905 0.97532997 1.         1.        ]\n",
      " [0.97691905 0.97532997 1.         1.        ]]\n",
      "threat\n",
      "[[1.         0.66257665 0.82300698 0.82300698]\n",
      " [0.66257665 1.         0.63386948 0.63386948]\n",
      " [0.82300698 0.63386948 1.         1.        ]\n",
      " [0.82300698 0.63386948 1.         1.        ]]\n",
      "insult\n",
      "[[1.         0.97498708 0.97498248 0.97498248]\n",
      " [0.97498708 1.         0.97130601 0.97130601]\n",
      " [0.97498248 0.97130601 1.         1.        ]\n",
      " [0.97498248 0.97130601 1.         1.        ]]\n",
      "identity_hate\n",
      "[[1.         0.83844788 0.90932487 0.90932487]\n",
      " [0.83844788 1.         0.81515255 0.81515255]\n",
      " [0.90932487 0.81515255 1.         1.        ]\n",
      " [0.90932487 0.81515255 1.         1.        ]]\n"
     ]
    }
   ],
   "source": [
    "for label in labels:\n",
    "    print(label)\n",
    "    print(np.corrcoef([K1[label], K2[label], K3[label], K4[label]]))"
   ]
  },
  {
   "cell_type": "code",
   "execution_count": 10,
   "metadata": {},
   "outputs": [],
   "source": [
    "import copy\n",
    "submission = copy.deepcopy(K1)"
   ]
  },
  {
   "cell_type": "code",
   "execution_count": 11,
   "metadata": {},
   "outputs": [],
   "source": [
    "datasets = [K1, K2, K3, K4]\n",
    "datasets_rmid = [df.drop('id', axis=1) for df in datasets]"
   ]
  },
  {
   "cell_type": "code",
   "execution_count": 12,
   "metadata": {},
   "outputs": [],
   "source": [
    "result = [weights[i]*datasets_rmid[i] for i in range(len(datasets))]\n",
    "result = sum(result)/sum(weights)"
   ]
  },
  {
   "cell_type": "code",
   "execution_count": 13,
   "metadata": {},
   "outputs": [],
   "source": [
    "submission.to_csv('keras_ave_result.csv', index=False)"
   ]
  },
  {
   "cell_type": "code",
   "execution_count": 14,
   "metadata": {},
   "outputs": [
    {
     "data": {
      "text/html": [
       "<div>\n",
       "<style scoped>\n",
       "    .dataframe tbody tr th:only-of-type {\n",
       "        vertical-align: middle;\n",
       "    }\n",
       "\n",
       "    .dataframe tbody tr th {\n",
       "        vertical-align: top;\n",
       "    }\n",
       "\n",
       "    .dataframe thead th {\n",
       "        text-align: right;\n",
       "    }\n",
       "</style>\n",
       "<table border=\"1\" class=\"dataframe\">\n",
       "  <thead>\n",
       "    <tr style=\"text-align: right;\">\n",
       "      <th></th>\n",
       "      <th>id</th>\n",
       "      <th>toxic</th>\n",
       "      <th>severe_toxic</th>\n",
       "      <th>obscene</th>\n",
       "      <th>threat</th>\n",
       "      <th>insult</th>\n",
       "      <th>identity_hate</th>\n",
       "    </tr>\n",
       "  </thead>\n",
       "  <tbody>\n",
       "    <tr>\n",
       "      <th>0</th>\n",
       "      <td>00001cee341fdb12</td>\n",
       "      <td>0.999079</td>\n",
       "      <td>4.258385e-01</td>\n",
       "      <td>0.970865</td>\n",
       "      <td>0.074509</td>\n",
       "      <td>0.891107</td>\n",
       "      <td>0.203512</td>\n",
       "    </tr>\n",
       "    <tr>\n",
       "      <th>1</th>\n",
       "      <td>0000247867823ef7</td>\n",
       "      <td>0.001025</td>\n",
       "      <td>9.470544e-07</td>\n",
       "      <td>0.000234</td>\n",
       "      <td>0.000008</td>\n",
       "      <td>0.000162</td>\n",
       "      <td>0.000053</td>\n",
       "    </tr>\n",
       "    <tr>\n",
       "      <th>2</th>\n",
       "      <td>00013b17ad220c46</td>\n",
       "      <td>0.000898</td>\n",
       "      <td>1.196599e-06</td>\n",
       "      <td>0.000222</td>\n",
       "      <td>0.000007</td>\n",
       "      <td>0.000159</td>\n",
       "      <td>0.000056</td>\n",
       "    </tr>\n",
       "  </tbody>\n",
       "</table>\n",
       "</div>"
      ],
      "text/plain": [
       "                 id     toxic  severe_toxic   obscene    threat    insult  \\\n",
       "0  00001cee341fdb12  0.999079  4.258385e-01  0.970865  0.074509  0.891107   \n",
       "1  0000247867823ef7  0.001025  9.470544e-07  0.000234  0.000008  0.000162   \n",
       "2  00013b17ad220c46  0.000898  1.196599e-06  0.000222  0.000007  0.000159   \n",
       "\n",
       "   identity_hate  \n",
       "0       0.203512  \n",
       "1       0.000053  \n",
       "2       0.000056  "
      ]
     },
     "execution_count": 14,
     "metadata": {},
     "output_type": "execute_result"
    }
   ],
   "source": [
    "submission.head(3)"
   ]
  },
  {
   "cell_type": "code",
   "execution_count": null,
   "metadata": {},
   "outputs": [],
   "source": []
  }
 ],
 "metadata": {
  "kernelspec": {
   "display_name": "Python 3",
   "language": "python",
   "name": "python3"
  },
  "language_info": {
   "codemirror_mode": {
    "name": "ipython",
    "version": 3
   },
   "file_extension": ".py",
   "mimetype": "text/x-python",
   "name": "python",
   "nbconvert_exporter": "python",
   "pygments_lexer": "ipython3",
   "version": "3.5.2"
  }
 },
 "nbformat": 4,
 "nbformat_minor": 2
}
