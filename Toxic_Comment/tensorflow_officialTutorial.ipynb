{
 "cells": [
  {
   "cell_type": "markdown",
   "metadata": {},
   "source": [
    "[Official Tutorial](https://www.tensorflow.org/get_started/get_started)\n",
    "<br>\n",
    "[Batch size](https://www.zhihu.com/question/32673260)"
   ]
  },
  {
   "cell_type": "code",
   "execution_count": 4,
   "metadata": {},
   "outputs": [],
   "source": [
    "# https://www.tensorflow.org/get_started/get_started\n",
    "import tensorflow as tf\n",
    "from tensorflow import estimator"
   ]
  },
  {
   "cell_type": "markdown",
   "metadata": {},
   "source": [
    "### tf.constant"
   ]
  },
  {
   "cell_type": "code",
   "execution_count": 10,
   "metadata": {},
   "outputs": [
    {
     "name": "stdout",
     "output_type": "stream",
     "text": [
      "Tensor(\"Const_2:0\", shape=(), dtype=float32) Tensor(\"Const_3:0\", shape=(), dtype=float32)\n"
     ]
    }
   ],
   "source": [
    "node1 = tf.constant(3.0, dtype=tf.float32)\n",
    "node2 = tf.constant(4.0) # also tf.float32 implicitly\n",
    "print(node1, node2)"
   ]
  },
  {
   "cell_type": "code",
   "execution_count": 11,
   "metadata": {},
   "outputs": [],
   "source": [
    "node1??"
   ]
  },
  {
   "cell_type": "code",
   "execution_count": 4,
   "metadata": {
    "collapsed": true
   },
   "outputs": [],
   "source": [
    "# A `Session` object encapsulates the environment in which `Operation` objects are executed, and `Tensor` objects are evaluated.\n",
    "sess = tf.Session()"
   ]
  },
  {
   "cell_type": "code",
   "execution_count": 17,
   "metadata": {},
   "outputs": [
    {
     "data": {
      "text/plain": [
       "[_DeviceAttributes(/job:localhost/replica:0/task:0/device:CPU:0, CPU, 268435456)]"
      ]
     },
     "execution_count": 17,
     "metadata": {},
     "output_type": "execute_result"
    }
   ],
   "source": [
    "sess.list_devices()"
   ]
  },
  {
   "cell_type": "code",
   "execution_count": 14,
   "metadata": {},
   "outputs": [
    {
     "data": {
      "text/plain": [
       "[(3.0, 4.0), [3.0, 4.0], tuple, list]"
      ]
     },
     "execution_count": 14,
     "metadata": {},
     "output_type": "execute_result"
    }
   ],
   "source": [
    "a = sess.run((node1, node2))\n",
    "b = sess.run([node1, node2])\n",
    "[a, b, type(a), type(b)]"
   ]
  },
  {
   "cell_type": "code",
   "execution_count": 18,
   "metadata": {},
   "outputs": [
    {
     "name": "stdout",
     "output_type": "stream",
     "text": [
      "node3: Tensor(\"Add:0\", shape=(), dtype=float32)\n",
      "sess.run(node3): 7.0\n"
     ]
    }
   ],
   "source": [
    "# combining Tensor nodes with operations(Operations are also nodes)\n",
    "node3 = tf.add(node1, node2)\n",
    "print(\"node3:\", node3)\n",
    "print(\"sess.run(node3):\", sess.run(node3))"
   ]
  },
  {
   "cell_type": "markdown",
   "metadata": {},
   "source": [
    "### tf.placeholder\n",
    "* A placeholder is a promise to provide a value *later*"
   ]
  },
  {
   "cell_type": "code",
   "execution_count": 19,
   "metadata": {
    "collapsed": true
   },
   "outputs": [],
   "source": [
    "a = tf.placeholder(tf.float32)\n",
    "b = tf.placeholder(tf.float32)\n",
    "adder_node = a + b # + provides a shortcut for tf.add(a,b)"
   ]
  },
  {
   "cell_type": "code",
   "execution_count": 20,
   "metadata": {},
   "outputs": [
    {
     "name": "stdout",
     "output_type": "stream",
     "text": [
      "7.5\n",
      "[ 3.  7.]\n"
     ]
    }
   ],
   "source": [
    "# evaluate this graph with multiple inputs by using the feed_dict argument to the run method\n",
    "print(sess.run(adder_node, {a:3, b:4.5}))\n",
    "print(sess.run(adder_node, {a:[1,3], b:[2,4]}))"
   ]
  },
  {
   "cell_type": "code",
   "execution_count": 21,
   "metadata": {},
   "outputs": [
    {
     "name": "stdout",
     "output_type": "stream",
     "text": [
      "22.5\n"
     ]
    }
   ],
   "source": [
    "# adding another operation\n",
    "add_and_triple = adder_node * 3\n",
    "print(sess.run(add_and_triple, {a:3, b:4.5}))"
   ]
  },
  {
   "cell_type": "markdown",
   "metadata": {},
   "source": [
    "### tf.Variables\n",
    "* Variables allow us to add trainable parameters to a graph. They are contructed with a type and initial value"
   ]
  },
  {
   "cell_type": "code",
   "execution_count": 22,
   "metadata": {
    "collapsed": true
   },
   "outputs": [],
   "source": [
    "W = tf.Variable([.3], dtype=tf.float32)\n",
    "b = tf.Variable([-.3], dtype=tf.float32)\n",
    "x = tf.placeholder(tf.float32)\n",
    "linear_model = W*x + b"
   ]
  },
  {
   "cell_type": "markdown",
   "metadata": {},
   "source": [
    "* Constants are initialized when you call tf.constant, and their value can never change.\n",
    "* By contrast, variables are not initialized when you call tf.Variable.\n",
    "* To initialize all the variables in a TensorFlow program, you must explicity call a special operation as follows:"
   ]
  },
  {
   "cell_type": "code",
   "execution_count": 23,
   "metadata": {
    "collapsed": true
   },
   "outputs": [],
   "source": [
    "init = tf.global_variables_initializer()\n",
    "sess.run(init)  # until we call sess.run, the variables are uninitialized"
   ]
  },
  {
   "cell_type": "code",
   "execution_count": 24,
   "metadata": {},
   "outputs": [
    {
     "name": "stdout",
     "output_type": "stream",
     "text": [
      "[ 0.          0.30000001  0.60000002  0.90000004]\n"
     ]
    }
   ],
   "source": [
    "print(sess.run(linear_model, {x: [1,2,3,4]}))"
   ]
  },
  {
   "cell_type": "code",
   "execution_count": 26,
   "metadata": {},
   "outputs": [
    {
     "name": "stdout",
     "output_type": "stream",
     "text": [
      "23.66\n",
      "[  0.           1.68999982   6.75999928  15.21000099]\n"
     ]
    }
   ],
   "source": [
    "y = tf.placeholder(tf.float32)\n",
    "squared_deltas = tf.square(linear_model - y)\n",
    "loss = tf.reduce_sum(squared_deltas)\n",
    "print(sess.run(loss, {x: [1, 2, 3, 4], y: [0, -1, -2, -3]}))\n",
    "print(sess.run(squared_deltas, {x:[1,2,3,4], y:[0,-1,-2,-3]}))"
   ]
  },
  {
   "cell_type": "markdown",
   "metadata": {},
   "source": [
    "* tf.Variable can be changed using operations like **tf.assign**"
   ]
  },
  {
   "cell_type": "code",
   "execution_count": 23,
   "metadata": {},
   "outputs": [
    {
     "name": "stdout",
     "output_type": "stream",
     "text": [
      "0.0\n"
     ]
    }
   ],
   "source": [
    "fixW = tf.assign(W,[-1.])\n",
    "fixb = tf.assign(b,[1.])\n",
    "sess.run([fixW, fixb])\n",
    "print(sess.run(loss, {x: [1,2,3,4], y: [0,-1,-2,-3]}))"
   ]
  },
  {
   "cell_type": "markdown",
   "metadata": {},
   "source": [
    "### tf.train API :optimizers\n",
    "* Tensorflow provides optimizers that slowly change each variable in order to minimize the loss function\n",
    "* the simplest optimizer is gradient descent"
   ]
  },
  {
   "cell_type": "code",
   "execution_count": 24,
   "metadata": {},
   "outputs": [
    {
     "name": "stdout",
     "output_type": "stream",
     "text": [
      "[array([-0.9999969], dtype=float32), array([ 0.99999082], dtype=float32)]\n"
     ]
    }
   ],
   "source": [
    "optimizer = tf.train.GradientDescentOptimizer(0.01)\n",
    "train = optimizer.minimize(loss)\n",
    "\n",
    "sess.run(init) # reset values to incorrect defaults\n",
    "for i in range(1000):\n",
    "    sess.run(train, {x: [1,2,3,4], y: [0,-1,-2,-3]})\n",
    "print(sess.run([W,b]))"
   ]
  },
  {
   "cell_type": "code",
   "execution_count": 26,
   "metadata": {},
   "outputs": [
    {
     "name": "stdout",
     "output_type": "stream",
     "text": [
      "W: [-0.9999969] b: [ 0.99999082] loss: 5.69997e-11\n"
     ]
    }
   ],
   "source": [
    "# evaluate training accuracy\n",
    "x_train = [1,2,3,4]\n",
    "y_train = [0,-1,-2,-3]\n",
    "curr_W, curr_b, curr_loss = sess.run([W,b,loss], {x: x_train, y: y_train})\n",
    "print(\"W: %s b: %s loss: %s\" %(curr_W, curr_b, curr_loss))"
   ]
  },
  {
   "cell_type": "markdown",
   "metadata": {},
   "source": [
    "### tf.estimator  *tf.estimator defines many common models*\n",
    "tf.estimator is a high-level TensorFlow library that simplifies the mechanics of machine learning, \n",
    "* running training loops\n",
    "* running evaluation loops\n",
    "* managing data sets"
   ]
  },
  {
   "cell_type": "code",
   "execution_count": 28,
   "metadata": {
    "collapsed": true
   },
   "outputs": [],
   "source": [
    "import numpy as np\n",
    "import tensorflow as tf"
   ]
  },
  {
   "cell_type": "code",
   "execution_count": 30,
   "metadata": {
    "collapsed": true
   },
   "outputs": [],
   "source": [
    "# declare list of features\n",
    "feature_columns = [tf.feature_column.numeric_column(\"x\", shape=[1])]"
   ]
  },
  {
   "cell_type": "code",
   "execution_count": 31,
   "metadata": {},
   "outputs": [
    {
     "name": "stdout",
     "output_type": "stream",
     "text": [
      "INFO:tensorflow:Using default config.\n",
      "WARNING:tensorflow:Using temporary folder as model directory: C:\\Users\\luan\\AppData\\Local\\Temp\\tmpamaw6pjr\n",
      "INFO:tensorflow:Using config: {'_model_dir': 'C:\\\\Users\\\\luan\\\\AppData\\\\Local\\\\Temp\\\\tmpamaw6pjr', '_tf_random_seed': None, '_save_summary_steps': 100, '_save_checkpoints_steps': None, '_save_checkpoints_secs': 600, '_session_config': None, '_keep_checkpoint_max': 5, '_keep_checkpoint_every_n_hours': 10000, '_log_step_count_steps': 100, '_service': None, '_cluster_spec': <tensorflow.python.training.server_lib.ClusterSpec object at 0x0000021C999285F8>, '_task_type': 'worker', '_task_id': 0, '_master': '', '_is_chief': True, '_num_ps_replicas': 0, '_num_worker_replicas': 1}\n"
     ]
    }
   ],
   "source": [
    "# The following code provides an estimator that does linear regression\n",
    "estimator = tf.estimator.LinearRegressor(feature_columns = feature_columns)"
   ]
  },
  {
   "cell_type": "code",
   "execution_count": 32,
   "metadata": {},
   "outputs": [
    {
     "name": "stdout",
     "output_type": "stream",
     "text": [
      "INFO:tensorflow:Create CheckpointSaverHook.\n",
      "INFO:tensorflow:Saving checkpoints for 1 into C:\\Users\\luan\\AppData\\Local\\Temp\\tmpamaw6pjr\\model.ckpt.\n",
      "INFO:tensorflow:loss = 21.0, step = 1\n",
      "INFO:tensorflow:global_step/sec: 682.588\n",
      "INFO:tensorflow:loss = 0.240081, step = 101 (0.162 sec)\n",
      "INFO:tensorflow:global_step/sec: 709.221\n",
      "INFO:tensorflow:loss = 0.07524, step = 201 (0.129 sec)\n",
      "INFO:tensorflow:global_step/sec: 790.509\n",
      "INFO:tensorflow:loss = 0.0148608, step = 301 (0.125 sec)\n",
      "INFO:tensorflow:global_step/sec: 813.01\n",
      "INFO:tensorflow:loss = 0.00316879, step = 401 (0.124 sec)\n",
      "INFO:tensorflow:global_step/sec: 651.46\n",
      "INFO:tensorflow:loss = 0.00155151, step = 501 (0.155 sec)\n",
      "INFO:tensorflow:global_step/sec: 826.459\n",
      "INFO:tensorflow:loss = 0.000113987, step = 601 (0.120 sec)\n",
      "INFO:tensorflow:global_step/sec: 719.395\n",
      "INFO:tensorflow:loss = 9.54682e-05, step = 701 (0.138 sec)\n",
      "INFO:tensorflow:global_step/sec: 544.97\n",
      "INFO:tensorflow:loss = 4.0516e-05, step = 801 (0.187 sec)\n",
      "INFO:tensorflow:global_step/sec: 392.158\n",
      "INFO:tensorflow:loss = 3.72945e-06, step = 901 (0.256 sec)\n",
      "INFO:tensorflow:Saving checkpoints for 1000 into C:\\Users\\luan\\AppData\\Local\\Temp\\tmpamaw6pjr\\model.ckpt.\n",
      "INFO:tensorflow:Loss for final step: 1.54391e-06.\n",
      "INFO:tensorflow:Starting evaluation at 2017-11-17-08:08:34\n",
      "INFO:tensorflow:Restoring parameters from C:\\Users\\luan\\AppData\\Local\\Temp\\tmpamaw6pjr\\model.ckpt-1000\n",
      "INFO:tensorflow:Finished evaluation at 2017-11-17-08:08:35\n",
      "INFO:tensorflow:Saving dict for global step 1000: average_loss = 3.28291e-07, global_step = 1000, loss = 1.31316e-06\n",
      "INFO:tensorflow:Starting evaluation at 2017-11-17-08:08:35\n",
      "INFO:tensorflow:Restoring parameters from C:\\Users\\luan\\AppData\\Local\\Temp\\tmpamaw6pjr\\model.ckpt-1000\n",
      "INFO:tensorflow:Finished evaluation at 2017-11-17-08:08:37\n",
      "INFO:tensorflow:Saving dict for global step 1000: average_loss = 0.00257619, global_step = 1000, loss = 0.0103047\n",
      "train metrics: {'average_loss': 3.2829104e-07, 'loss': 1.3131641e-06, 'global_step': 1000}\n",
      "eval metrics: {'average_loss': 0.0025761868, 'loss': 0.010304747, 'global_step': 1000}\n"
     ]
    }
   ],
   "source": [
    "# Here we use two data sets: one for training and one for evaluation\n",
    "x_train = np.array([1.,2.,3.,4.])\n",
    "y_train = np.array([0.,-1.,-2.,-3.])\n",
    "x_eval = np.array([2.,5.,8.,1.])\n",
    "y_eval = np.array([-1.01,-4.1,-7,0.])\n",
    "\n",
    "input_fn = tf.estimator.inputs.numpy_input_fn({\"x\": x_train}, y_train, batch_size=4, num_epochs=None, shuffle=True)\n",
    "train_input_fn = tf.estimator.inputs.numpy_input_fn(\n",
    "    {\"x\": x_train}, y_train, batch_size=4, num_epochs=1000, shuffle=False)\n",
    "eval_input_fn = tf.estimator.inputs.numpy_input_fn(\n",
    "    {\"x\": x_eval}, y_eval, batch_size=4, num_epochs=1000, shuffle=False)\n",
    "\n",
    "estimator.train(input_fn=input_fn, steps=1000)\n",
    "\n",
    "# Here we evaluate how well our model did.\n",
    "train_metrics = estimator.evaluate(input_fn=train_input_fn)\n",
    "eval_metrics = estimator.evaluate(input_fn=eval_input_fn)\n",
    "print(\"train metrics: %r\"% train_metrics)\n",
    "print(\"eval metrics: %r\"% eval_metrics)"
   ]
  },
  {
   "cell_type": "code",
   "execution_count": null,
   "metadata": {
    "collapsed": true
   },
   "outputs": [],
   "source": []
  }
 ],
 "metadata": {
  "kernelspec": {
   "display_name": "Python 3",
   "language": "python",
   "name": "python3"
  },
  "language_info": {
   "codemirror_mode": {
    "name": "ipython",
    "version": 3
   },
   "file_extension": ".py",
   "mimetype": "text/x-python",
   "name": "python",
   "nbconvert_exporter": "python",
   "pygments_lexer": "ipython3",
   "version": "3.5.2"
  }
 },
 "nbformat": 4,
 "nbformat_minor": 2
}
