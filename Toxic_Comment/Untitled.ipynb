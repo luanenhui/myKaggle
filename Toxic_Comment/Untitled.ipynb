{
 "cells": [
  {
   "cell_type": "markdown",
   "metadata": {},
   "source": [
    "[tensorflow submodule](https://www.tensorflow.org/get_started/premade_estimators)"
   ]
  },
  {
   "cell_type": "markdown",
   "metadata": {},
   "source": [
    "### [Datasets Quick Start](https://www.tensorflow.org/get_started/datasets_quickstart)\n",
    "1. Reading in-memory data from numpy arrays\n",
    "2. Reading lines from a csv file"
   ]
  },
  {
   "cell_type": "markdown",
   "metadata": {},
   "source": [
    "## Basic input"
   ]
  },
  {
   "cell_type": "code",
   "execution_count": 1,
   "metadata": {},
   "outputs": [],
   "source": [
    "import tensorflow as tf"
   ]
  },
  {
   "cell_type": "code",
   "execution_count": 10,
   "metadata": {},
   "outputs": [],
   "source": [
    "from sklearn.datasets import load_iris\n",
    "iris = load_iris()\n",
    "iris_feature = iris.data\n",
    "iris_target = iris.target\n",
    "feature_names = iris.feature_names\n",
    "target_names = iris.target_names"
   ]
  },
  {
   "cell_type": "code",
   "execution_count": 17,
   "metadata": {},
   "outputs": [],
   "source": [
    "import pandas as pd\n",
    "train = pd.DataFrame(iris_feature)\n",
    "train.columns = feature_names"
   ]
  },
  {
   "cell_type": "code",
   "execution_count": 31,
   "metadata": {},
   "outputs": [],
   "source": [
    "def train_input_fn(features, labels, batch_size):\n",
    "    \"\"\"An input function for training\"\"\"\n",
    "    # Convert the inputs to a Dataset\n",
    "    dataset = tf.data.Dataset.from_tensor_slices((dict(features), labels))\n",
    "    \n",
    "    # Shuffle, repeat, and batch the examples\n",
    "    dataset = dataset.shuffle(1000).repeat().batch(batch_size)\n",
    "    \n",
    "    # Build the Iterator, and return the read end of the pipeline\n",
    "    return dataset.make_one_shot_iterator().get_next()"
   ]
  },
  {
   "cell_type": "code",
   "execution_count": 32,
   "metadata": {},
   "outputs": [
    {
     "data": {
      "text/plain": [
       "({'petal length (cm)': <tf.Tensor 'IteratorGetNext_1:0' shape=(?,) dtype=float64>,\n",
       "  'petal width (cm)': <tf.Tensor 'IteratorGetNext_1:1' shape=(?,) dtype=float64>,\n",
       "  'sepal length (cm)': <tf.Tensor 'IteratorGetNext_1:2' shape=(?,) dtype=float64>,\n",
       "  'sepal width (cm)': <tf.Tensor 'IteratorGetNext_1:3' shape=(?,) dtype=float64>},\n",
       " <tf.Tensor 'IteratorGetNext_1:4' shape=(?,) dtype=int64>)"
      ]
     },
     "execution_count": 32,
     "metadata": {},
     "output_type": "execute_result"
    }
   ],
   "source": [
    "batch_size = 100\n",
    "train_input_fn(train, iris_target, batch_size)"
   ]
  },
  {
   "cell_type": "markdown",
   "metadata": {},
   "source": [
    "### Slices\n",
    "tf.data.Dataset.from_tensor_slices function takes an array and returns a tf.data.Dataset representing slices of the array.\n",
    "> For example, an array containing the mnist training data has a shape of (6000, 28, 28). Passing this to from_tensor_slices returns a Dataset object containing 60000 slices, each one a 28x28 image."
   ]
  },
  {
   "cell_type": "code",
   "execution_count": 37,
   "metadata": {},
   "outputs": [
    {
     "name": "stdout",
     "output_type": "stream",
     "text": [
      "<TensorSliceDataset shapes: ({sepal width (cm): (), sepal length (cm): (), petal width (cm): (), petal length (cm): ()}, ()), types: ({sepal width (cm): tf.float64, sepal length (cm): tf.float64, petal width (cm): tf.float64, petal length (cm): tf.float64}, tf.int64)>\n"
     ]
    }
   ],
   "source": [
    "dataset = tf.data.Dataset.from_tensor_slices((dict(train), iris_target))\n",
    "print(dataset)"
   ]
  },
  {
   "cell_type": "code",
   "execution_count": 40,
   "metadata": {},
   "outputs": [
    {
     "data": {
      "text/plain": [
       "'A `Dataset` of slices from a nested structure of tensors.'"
      ]
     },
     "execution_count": 40,
     "metadata": {},
     "output_type": "execute_result"
    }
   ],
   "source": [
    "dataset.__doc__"
   ]
  },
  {
   "cell_type": "markdown",
   "metadata": {},
   "source": [
    "### Manipulation\n",
    "* shuffle()方法将序列的所有元素随机排序\n",
    "> The shuffle method uses a fixed-size buffer to shuffle the items as the pass through. Setting a buffer_size greater than the number of examples in the Dataset ensures that the data is completely shuffled.\n",
    "* The repeat method has the Dataset restart when it reaches the end.\n",
    "* The batch method collects a number of examples and stacks them, to create batchs."
   ]
  },
  {
   "cell_type": "code",
   "execution_count": 41,
   "metadata": {},
   "outputs": [
    {
     "name": "stdout",
     "output_type": "stream",
     "text": [
      "<BatchDataset shapes: ({sepal width (cm): (?,), petal length (cm): (?,), petal width (cm): (?,), sepal length (cm): (?,)}, (?,)), types: ({sepal width (cm): tf.float64, sepal length (cm): tf.float64, petal width (cm): tf.float64, petal length (cm): tf.float64}, tf.int64)>\n"
     ]
    }
   ],
   "source": [
    "dataset = dataset.shuffle(1000).repeat().batch(100)\n",
    "print(dataset)"
   ]
  },
  {
   "cell_type": "code",
   "execution_count": 43,
   "metadata": {},
   "outputs": [
    {
     "data": {
      "text/plain": [
       "'A `Dataset` that batches contiguous elements from its input.'"
      ]
     },
     "execution_count": 43,
     "metadata": {},
     "output_type": "execute_result"
    }
   ],
   "source": [
    "dataset.__doc__"
   ]
  },
  {
   "cell_type": "markdown",
   "metadata": {},
   "source": [
    "### Return\n",
    "convert the Dataset into (features,label) pair containg tensorflow tensors for the **train, evaluate, and predict methods**"
   ]
  },
  {
   "cell_type": "code",
   "execution_count": 46,
   "metadata": {},
   "outputs": [
    {
     "name": "stdout",
     "output_type": "stream",
     "text": [
      "({'sepal width (cm)': <tf.Tensor 'IteratorGetNext_4:3' shape=(?,) dtype=float64>, 'sepal length (cm)': <tf.Tensor 'IteratorGetNext_4:2' shape=(?,) dtype=float64>, 'petal width (cm)': <tf.Tensor 'IteratorGetNext_4:1' shape=(?,) dtype=float64>, 'petal length (cm)': <tf.Tensor 'IteratorGetNext_4:0' shape=(?,) dtype=float64>}, <tf.Tensor 'IteratorGetNext_4:4' shape=(?,) dtype=int64>)\n"
     ]
    }
   ],
   "source": [
    "features_result, labels_result = dataset.make_one_shot_iterator().get_next()\n",
    "print((features_result, labels_result))"
   ]
  },
  {
   "cell_type": "markdown",
   "metadata": {},
   "source": [
    "## Reading a CSV File"
   ]
  },
  {
   "cell_type": "markdown",
   "metadata": {},
   "source": [
    "### Build the Dataset"
   ]
  },
  {
   "cell_type": "code",
   "execution_count": 50,
   "metadata": {},
   "outputs": [],
   "source": [
    "ds = tf.data.TextLineDataset(train_path).skip(1)"
   ]
  },
  {
   "cell_type": "markdown",
   "metadata": {},
   "source": [
    "### Build a csv line parser"
   ]
  },
  {
   "cell_type": "code",
   "execution_count": null,
   "metadata": {},
   "outputs": [],
   "source": [
    "# Metadata describing the text columns\n",
    "COLUMNS = ['SepalLength', 'SepalWidth',\n",
    "          'PetalLength', 'PetalWidth',\n",
    "          'label']\n",
    "FIELD_DEFAULTS = [[0.0], [0.0], [0.0], [0.0], [0]]\n",
    "def _parse_line(line):\n",
    "    # Decode the line into its fields\n",
    "    fields = tf.decode_csv(line, FIELD_DEFAULTS)\n",
    "    \n",
    "    # Pack the result into a dictionary\n",
    "    features = dict(zip(COLUMNS, fields))\n",
    "    \n",
    "    # Separate the label from the features\n",
    "    label = features.pop('label')\n",
    "    \n",
    "    return features, label"
   ]
  },
  {
   "cell_type": "markdown",
   "metadata": {},
   "source": [
    "### Parse the lines"
   ]
  },
  {
   "cell_type": "code",
   "execution_count": null,
   "metadata": {},
   "outputs": [],
   "source": []
  }
 ],
 "metadata": {
  "kernelspec": {
   "display_name": "Python 3",
   "language": "python",
   "name": "python3"
  },
  "language_info": {
   "codemirror_mode": {
    "name": "ipython",
    "version": 3
   },
   "file_extension": ".py",
   "mimetype": "text/x-python",
   "name": "python",
   "nbconvert_exporter": "python",
   "pygments_lexer": "ipython3",
   "version": "3.5.2"
  }
 },
 "nbformat": 4,
 "nbformat_minor": 2
}
