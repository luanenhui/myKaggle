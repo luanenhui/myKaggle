{
 "cells": [
  {
   "cell_type": "markdown",
   "metadata": {},
   "source": [
    "[http://ml-ensemble.com/info/tutorials/start.html](http://ml-ensemble.com/info/tutorials/start.html)"
   ]
  },
  {
   "cell_type": "code",
   "execution_count": 8,
   "metadata": {},
   "outputs": [],
   "source": [
    "import numpy as np\n",
    "import pandas as pd\n",
    "from sklearn.metrics import accuracy_score, roc_auc_score\n",
    "from sklearn.datasets import load_iris\n",
    "\n",
    "seed = 2017\n",
    "np.random.seed(seed)\n",
    "\n",
    "data = load_iris()\n",
    "idx = np.random.permutation(150)\n",
    "X = data.data[idx]\n",
    "y = data.target[idx]"
   ]
  },
  {
   "cell_type": "code",
   "execution_count": 9,
   "metadata": {},
   "outputs": [
    {
     "name": "stdout",
     "output_type": "stream",
     "text": [
      "\n",
      "Fitting 2 layers\n",
      "Processing layer-1             done | 00:00:00\n",
      "Processing layer-2             done | 00:00:00\n",
      "Fit complete                        | 00:00:00\n",
      "\n",
      "Predicting 2 layers\n",
      "Processing layer-1             done | 00:00:00\n",
      "Processing layer-2             done | 00:00:00\n",
      "Predict complete                    | 00:00:00\n"
     ]
    }
   ],
   "source": [
    "from mlens.ensemble import SuperLearner\n",
    "from sklearn.linear_model import LogisticRegression\n",
    "from sklearn.ensemble import RandomForestClassifier\n",
    "from sklearn.svm import SVC\n",
    "\n",
    "# --- Build ---\n",
    "# Passing a scoring function will create cv during fitting\n",
    "# the scorer should be a simple function accepting to vectors and returning a scalar\n",
    "ensemble = SuperLearner(scorer=accuracy_score, random_state=seed, verbose=2)\n",
    "\n",
    "# build the first layer\n",
    "ensemble.add([RandomForestClassifier(random_state=seed), SVC()])\n",
    "\n",
    "# Attach the final meta estimator\n",
    "ensemble.add_meta(LogisticRegression())\n",
    "\n",
    "# --- Use ---\n",
    "\n",
    "# Fit ensemble\n",
    "ensemble.fit(X[:75], y[:75])\n",
    "\n",
    "# Predict\n",
    "preds = ensemble.predict(X[75:])"
   ]
  },
  {
   "cell_type": "code",
   "execution_count": 10,
   "metadata": {},
   "outputs": [
    {
     "name": "stdout",
     "output_type": "stream",
     "text": [
      "Fit data:\n",
      "                                   ft-m  ft-s  pt-m  pt-s  score-m  score-s\n",
      "layer-1  randomforestclassifier    0.03  0.00  0.00  0.00     0.84     0.06\n",
      "layer-1  svc                       0.00  0.00  0.00  0.00     0.89     0.05\n",
      "\n"
     ]
    }
   ],
   "source": [
    "print(\"Fit data:\\n%r\" % ensemble.data)"
   ]
  },
  {
   "cell_type": "code",
   "execution_count": 12,
   "metadata": {},
   "outputs": [
    {
     "name": "stdout",
     "output_type": "stream",
     "text": [
      "Prediction score: 0.960\n"
     ]
    }
   ],
   "source": [
    "print(\"Prediction score: %.3f\" % accuracy_score(preds, y[75:]))\n",
    "# print(\"Prediction auc: %.4f\" % roc_auc_score(preds, y[75:]))"
   ]
  },
  {
   "cell_type": "markdown",
   "metadata": {},
   "source": [
    "#### Multi-layer ensembles"
   ]
  },
  {
   "cell_type": "code",
   "execution_count": 14,
   "metadata": {},
   "outputs": [
    {
     "name": "stdout",
     "output_type": "stream",
     "text": [
      "Fit data:\n",
      "                                   ft-m  ft-s  pt-m  pt-s  score-m  score-s\n",
      "layer-1  logisticregression        0.01  0.01  0.00  0.00     0.74     0.16\n",
      "layer-1  randomforestclassifier    0.03  0.01  0.00  0.00     0.84     0.06\n",
      "layer-2  logisticregression        0.00  0.00  0.00  0.00     0.67     0.12\n",
      "layer-2  svc                       0.00  0.00  0.00  0.00     0.89     0.00\n",
      "\n"
     ]
    }
   ],
   "source": [
    "ensemble = SuperLearner(scorer=accuracy_score, random_state=seed)\n",
    "\n",
    "# Build the first layer\n",
    "ensemble.add([RandomForestClassifier(random_state=seed), LogisticRegression()])\n",
    "# Build the second layer\n",
    "ensemble.add([LogisticRegression(), SVC()])\n",
    "\n",
    "# Attach the final meta estimator\n",
    "ensemble.add_meta(SVC())\n",
    "\n",
    "ensemble.fit(X[:75], y[:75])\n",
    "preds = ensemble.predict(X[75:])\n",
    "print(\"Fit data:\\n%r\" % ensemble.data)"
   ]
  },
  {
   "cell_type": "code",
   "execution_count": 15,
   "metadata": {},
   "outputs": [
    {
     "name": "stdout",
     "output_type": "stream",
     "text": [
      "Prediction score: 0.960\n"
     ]
    }
   ],
   "source": [
    "print(\"Prediction score: %.3f\" % accuracy_score(preds, y[75:]))"
   ]
  },
  {
   "cell_type": "markdown",
   "metadata": {},
   "source": [
    "### Model selection guide"
   ]
  },
  {
   "cell_type": "code",
   "execution_count": 17,
   "metadata": {},
   "outputs": [
    {
     "name": "stderr",
     "output_type": "stream",
     "text": [
      "/home/luan/.local/lib/python3.5/site-packages/mlens/model_selection/model_selection.py:600: UserWarning: No valid parameters found for gnb. Will fit and score once with given parameter settings.\n",
      "  \"settings.\".format(key))\n"
     ]
    },
    {
     "name": "stdout",
     "output_type": "stream",
     "text": [
      "Launching job\n",
      "Job           done | 00:00:00\n"
     ]
    },
    {
     "data": {
      "text/plain": [
       "<mlens.model_selection.model_selection.Evaluator at 0x7fb79b668e80>"
      ]
     },
     "execution_count": 17,
     "metadata": {},
     "output_type": "execute_result"
    }
   ],
   "source": [
    "from mlens.metrics import make_scorer\n",
    "accuracy_scorer = make_scorer(accuracy_score, greater_is_better=True)\n",
    "\n",
    "from mlens.model_selection import Evaluator\n",
    "from sklearn.naive_bayes import GaussianNB\n",
    "from sklearn.neighbors import KNeighborsClassifier\n",
    "from scipy.stats import randint\n",
    "\n",
    "# Here we name the estimator ourselves\n",
    "ests = [('gnb', GaussianNB()), ('knn', KNeighborsClassifier())]\n",
    "\n",
    "# Now we map parameters to these\n",
    "pars = {'n_neighbors': randint(2,20)}\n",
    "params = {'knn': pars}\n",
    "\n",
    "evaluator = Evaluator(accuracy_scorer, cv=10, random_state=seed, verbose=1)\n",
    "evaluator.fit(X, y, ests, params, n_iter=10)"
   ]
  },
  {
   "cell_type": "code",
   "execution_count": 21,
   "metadata": {},
   "outputs": [
    {
     "name": "stdout",
     "output_type": "stream",
     "text": [
      "Score comparision with best params founds:\n",
      "\n",
      "       test_score-m  test_score-s  pred_time-m  pred_time-s  train_score-m  train_score-s  fit_time-m  fit_time-s               params\n",
      "gnb           0.960         0.033        0.005        0.008          0.957          0.006       0.003       0.001                     \n",
      "knn           0.967         0.033        0.007        0.004          0.980          0.005       0.001       0.001  {'n_neighbors': 15}\n",
      "\n"
     ]
    }
   ],
   "source": [
    "print(\"Score comparision with best params founds:\\n\\n%r\" % evaluator.results)"
   ]
  },
  {
   "cell_type": "markdown",
   "metadata": {},
   "source": [
    "#### Preprocessing"
   ]
  },
  {
   "cell_type": "code",
   "execution_count": 23,
   "metadata": {},
   "outputs": [
    {
     "name": "stdout",
     "output_type": "stream",
     "text": [
      "Launching job\n",
      "Job           done | 00:00:00\n"
     ]
    },
    {
     "data": {
      "text/plain": [
       "<mlens.model_selection.model_selection.Evaluator at 0x7fb79b668e80>"
      ]
     },
     "execution_count": 23,
     "metadata": {},
     "output_type": "execute_result"
    }
   ],
   "source": [
    "from mlens.preprocessing import Subset\n",
    "from sklearn.preprocessing import StandardScaler\n",
    "\n",
    "# Map preprocessing cases through a dictionary\n",
    "preprocess_cases = {\n",
    "    'none': [],\n",
    "    'sc': [StandardScaler()],\n",
    "    'sub': [Subset([0,1])]\n",
    "}\n",
    "\n",
    "evaluator.fit(X, y, preprocessing=preprocess_cases)"
   ]
  },
  {
   "cell_type": "code",
   "execution_count": 24,
   "metadata": {},
   "outputs": [
    {
     "name": "stderr",
     "output_type": "stream",
     "text": [
      "/home/luan/.local/lib/python3.5/site-packages/mlens/model_selection/model_selection.py:600: UserWarning: No valid parameters found for sc.gnb. Will fit and score once with given parameter settings.\n",
      "  \"settings.\".format(key))\n",
      "/home/luan/.local/lib/python3.5/site-packages/mlens/model_selection/model_selection.py:600: UserWarning: No valid parameters found for none.gnb. Will fit and score once with given parameter settings.\n",
      "  \"settings.\".format(key))\n",
      "/home/luan/.local/lib/python3.5/site-packages/mlens/model_selection/model_selection.py:600: UserWarning: No valid parameters found for sub.gnb. Will fit and score once with given parameter settings.\n",
      "  \"settings.\".format(key))\n"
     ]
    },
    {
     "name": "stdout",
     "output_type": "stream",
     "text": [
      "Launching job\n",
      "Job           done | 00:00:00\n",
      "\n",
      "Comparsion across preprocessing pipelines:\n",
      "\n",
      "             test_score-m  test_score-s  pred_time-m  pred_time-s  train_score-m  train_score-s  fit_time-m  fit_time-s               params\n",
      "none  gnb           0.960         0.033        0.003        0.004          0.957          0.006       0.003       0.003                     \n",
      "none  knn           0.967         0.033        0.004        0.006          0.980          0.005       0.002       0.005  {'n_neighbors': 15}\n",
      "sc    gnb           0.960         0.033        0.002        0.001          0.957          0.006       0.003       0.001                     \n",
      "sc    knn           0.960         0.044        0.003        0.004          0.965          0.003       0.001       0.001   {'n_neighbors': 8}\n",
      "sub   gnb           0.780         0.133        0.001        0.001          0.791          0.020       0.006       0.007                     \n",
      "sub   knn           0.800         0.126        0.004        0.004          0.837          0.015       0.002       0.003   {'n_neighbors': 9}\n",
      "\n"
     ]
    }
   ],
   "source": [
    "evaluator.fit(X, y, ests, params, n_iter=10)\n",
    "print(\"\\nComparsion across preprocessing pipelines:\\n\\n%r\" % evaluator.results)"
   ]
  },
  {
   "cell_type": "markdown",
   "metadata": {},
   "source": [
    "#### Map different estimators to different preprocessing folds, and map different parameter distribution to each case"
   ]
  },
  {
   "cell_type": "code",
   "execution_count": 27,
   "metadata": {},
   "outputs": [
    {
     "name": "stderr",
     "output_type": "stream",
     "text": [
      "/home/luan/.local/lib/python3.5/site-packages/mlens/model_selection/model_selection.py:600: UserWarning: No valid parameters found for sc.gnb. Will fit and score once with given parameter settings.\n",
      "  \"settings.\".format(key))\n",
      "/home/luan/.local/lib/python3.5/site-packages/mlens/model_selection/model_selection.py:600: UserWarning: No valid parameters found for sub.gnb. Will fit and score once with given parameter settings.\n",
      "  \"settings.\".format(key))\n"
     ]
    },
    {
     "name": "stdout",
     "output_type": "stream",
     "text": [
      "Launching job\n",
      "Job           done | 00:00:00\n",
      "\n",
      "Comparison with different parameter dists:\n",
      "\n",
      "             test_score-m  test_score-s  pred_time-m  pred_time-s  train_score-m  train_score-s  fit_time-m  fit_time-s               params\n",
      "none  knn           0.967         0.045        0.003        0.006          0.961          0.007       0.002       0.003   {'n_neighbors': 3}\n",
      "sc    gnb           0.960         0.033        0.001        0.002          0.957          0.006       0.001       0.001                     \n",
      "sc    knn           0.940         0.055        0.005        0.004          0.963          0.006       0.002       0.002  {'n_neighbors': 20}\n",
      "sub   gnb           0.780         0.133        0.001        0.001          0.791          0.020       0.001       0.001                     \n",
      "sub   knn           0.800         0.126        0.002        0.002          0.837          0.015       0.003       0.004   {'n_neighbors': 9}\n",
      "\n"
     ]
    }
   ],
   "source": [
    "pars_1 = {'n_neighbors': randint(20,30)}\n",
    "pars_2 = {'n_neighbors': randint(2,10)}\n",
    "params = {'sc.knn': pars_1,\n",
    "         'none.knn': pars_2,\n",
    "         'sub.knn': pars_2}\n",
    "\n",
    "# We can map different estimators to different cases\n",
    "ests_1 = [('gnb', GaussianNB()), ('knn', KNeighborsClassifier())]\n",
    "ests_2 = [('knn', KNeighborsClassifier())]\n",
    "estimators = {'sc': ests_1,\n",
    "             'none': ests_2,\n",
    "             'sub': ests_1}\n",
    "evaluator.fit(X, y, estimators, params, n_iter=10)\n",
    "print(\"\\nComparison with different parameter dists:\\n\\n%r\" % evaluator.results)"
   ]
  },
  {
   "cell_type": "code",
   "execution_count": 28,
   "metadata": {},
   "outputs": [
    {
     "name": "stdout",
     "output_type": "stream",
     "text": [
      "Fit data:\n",
      "                                   ft-m  ft-s  pt-m  pt-s  score-m  score-s\n",
      "layer-1  logisticregression        0.01  0.01  0.00  0.00     0.74     0.16\n",
      "layer-1  randomforestclassifier    0.03  0.01  0.00  0.00     0.84     0.06\n",
      "layer-2  logisticregression        0.00  0.00  0.00  0.00     0.67     0.12\n",
      "layer-2  svc                       0.00  0.00  0.00  0.00     0.89     0.00\n",
      "\n"
     ]
    }
   ],
   "source": [
    "preds = ensemble.predict(X[75:])\n",
    "print(\"Fit data:\\n%r\" % ensemble.data)"
   ]
  },
  {
   "cell_type": "code",
   "execution_count": null,
   "metadata": {},
   "outputs": [],
   "source": []
  }
 ],
 "metadata": {
  "kernelspec": {
   "display_name": "Python 3",
   "language": "python",
   "name": "python3"
  },
  "language_info": {
   "codemirror_mode": {
    "name": "ipython",
    "version": 3
   },
   "file_extension": ".py",
   "mimetype": "text/x-python",
   "name": "python",
   "nbconvert_exporter": "python",
   "pygments_lexer": "ipython3",
   "version": "3.5.2"
  }
 },
 "nbformat": 4,
 "nbformat_minor": 2
}
